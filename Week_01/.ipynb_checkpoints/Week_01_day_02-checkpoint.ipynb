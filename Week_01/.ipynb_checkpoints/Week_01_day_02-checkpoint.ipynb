{
 "cells": [
  {
   "cell_type": "markdown",
   "id": "c048bbf6",
   "metadata": {},
   "source": [
    "## Trigonometric Functions"
   ]
  },
  {
   "cell_type": "markdown",
   "id": "a5ce01c5",
   "metadata": {},
   "source": [
    "**Trig review**\n",
    "\n",
    "A radian is the angle contained by an arc of length equal to the radius of the circle. \n",
    "\n",
    "![image.png](attachment:image.png)\n",
    "\n",
    "\\begin{equation}\n",
    "\\theta(rad)=\\frac{L}{R}\n",
    "\\end{equation}"
   ]
  },
  {
   "cell_type": "markdown",
   "id": "7eb15cce",
   "metadata": {},
   "source": [
    "The relation between the lengths of the sides in a triangle and the angle of the vertex is given through the \n",
    "**trigonometry functions**:\n",
    "\n",
    "![image.png](attachment:image.png)"
   ]
  },
  {
   "cell_type": "markdown",
   "id": "9cd0ea3e",
   "metadata": {},
   "source": [
    "- $f(x)=\\sin(x)$\n",
    "- $f(x)=\\cos(x)$\n",
    "- $f(x)=\\tan(x)=\\frac{\\sin(x)}{\\cos(x)}$\n",
    "- $f(x)=\\cot(x)=\\frac{\\cos(x)}{\\sin(x)}$\n",
    "- $f(x)=\\sec(x)=\\frac{1}{\\cos(x)}$\n",
    "- $f(x)=\\csc(x)=\\frac{1}{\\sin(x)}$\n",
    "\n",
    "For a review take a look at the apendix D from Stewart - Calculus - Early Transcendentals (Thomson, 2008)."
   ]
  },
  {
   "cell_type": "markdown",
   "id": "760134b4",
   "metadata": {},
   "source": [
    "![image.png](attachment:image.png)"
   ]
  },
  {
   "cell_type": "markdown",
   "id": "a78c2986",
   "metadata": {},
   "source": [
    "Properties:\n",
    "\n",
    "- The convention is that $x$ is in radians.\n",
    "- They are periodic $\\rightarrow f(x+T)=f(x)$, where $T=2\\pi$ is the period.\n",
    "- Range: $[-1,1]$\n",
    "- domain: $(-\\infty,\\infty)$\n",
    "- zeros of $\\cos(x)$: $(2n+1)\\pi/2$, $n=...-1,0,1,2,3...$\n",
    "- zeros of $\\sin(x)$: $n\\pi$, $n=...-1,0,1,2,3...$"
   ]
  },
  {
   "cell_type": "markdown",
   "id": "a2ab6407",
   "metadata": {},
   "source": [
    "**Futher functions**\n",
    "\n",
    "![image.png](attachment:image.png)"
   ]
  },
  {
   "cell_type": "markdown",
   "id": "64f68891",
   "metadata": {},
   "source": [
    "**Inverse trigonometric functions**\n",
    "\n",
    "- They are not one-to-one.\n",
    "- We have to restrict the domain."
   ]
  },
  {
   "cell_type": "code",
   "execution_count": 3,
   "id": "1ae11884",
   "metadata": {},
   "outputs": [
    {
     "data": {
      "text/plain": [
       "<matplotlib.lines.Line2D at 0x189acce2f80>"
      ]
     },
     "execution_count": 3,
     "metadata": {},
     "output_type": "execute_result"
    },
    {
     "data": {
      "image/png": "[encoded data removed]",
      "text/plain": [
       "<Figure size 640x480 with 1 Axes>"
      ]
     },
     "metadata": {},
     "output_type": "display_data"
    }
   ],
   "source": [
    "import numpy as np\n",
    "import matplotlib.pyplot as plt\n",
    "\n",
    "x=np.linspace(-np.pi/2+0.1,np.pi/2-0.1,1000)\n",
    "x1=np.linspace(-1,1,1000)\n",
    "\n",
    "plt.plot(x,np.sin(x))\n",
    "plt.plot(x1,np.arcsin(x1))\n",
    "\n",
    "\n",
    "plt.axhline(y = 0, color = 'k', linestyle = '-')\n",
    "plt.axvline(x = 0, color = 'k', linestyle = '-')"
   ]
  },
  {
   "cell_type": "code",
   "execution_count": null,
   "id": "09a195f5",
   "metadata": {},
   "outputs": [],
   "source": [
    "x=np.linspace(0,np.pi,1000)\n",
    "x1=np.linspace(-1,1,1000)\n",
    "\n",
    "plt.plot(x,np.cos(x))\n",
    "plt.plot(x1,np.arccos(x1))\n",
    "\n",
    "\n",
    "plt.axhline(y = 0, color = 'k', linestyle = '-')\n",
    "plt.axvline(x = 0, color = 'k', linestyle = '-')"
   ]
  }
 ],
 "metadata": {
  "celltoolbar": "Slideshow",
  "kernelspec": {
   "display_name": "Python 3 (ipykernel)",
   "language": "python",
   "name": "python3"
  },
  "language_info": {
   "codemirror_mode": {
    "name": "ipython",
    "version": 3
   },
   "file_extension": ".py",
   "mimetype": "text/x-python",
   "name": "python",
   "nbconvert_exporter": "python",
   "pygments_lexer": "ipython3",
   "version": "3.10.9"
  },
  "varInspector": {
   "cols": {
    "lenName": 16,
    "lenType": 16,
    "lenVar": 40
   },
   "kernels_config": {
    "python": {
     "delete_cmd_postfix": "",
     "delete_cmd_prefix": "del ",
     "library": "var_list.py",
     "varRefreshCmd": "print(var_dic_list())"
    },
    "r": {
     "delete_cmd_postfix": ") ",
     "delete_cmd_prefix": "rm(",
     "library": "var_list.r",
     "varRefreshCmd": "cat(var_dic_list()) "
    }
   },
   "types_to_exclude": [
    "module",
    "function",
    "builtin_function_or_method",
    "instance",
    "_Feature"
   ],
   "window_display": false
  }
 },
 "nbformat": 4,
 "nbformat_minor": 5
}
