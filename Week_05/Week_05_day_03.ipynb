{
 "cells": [
  {
   "cell_type": "markdown",
   "id": "af6f8c99",
   "metadata": {
    "slideshow": {
     "slide_type": "slide"
    }
   },
   "source": [
    "<h1 style=\"text-align: center;\">MAT150 - Summer 2023</h1>\n",
    "\n",
    "    \n",
    "    \n",
    "<div style='text-align: center;'>\n",
    "  Phd. Anabela Romina Turlione\n",
    "</div>\n",
    "\n",
    "<div style='text-align: center;'>\n",
    "  Digipen, Bilbao\n",
    "</div>"
   ]
  },
  {
   "cell_type": "markdown",
   "id": "5207766d",
   "metadata": {
    "slideshow": {
     "slide_type": "slide"
    }
   },
   "source": [
    "# Derivatives of higher degree"
   ]
  },
  {
   "cell_type": "markdown",
   "id": "4c3f8300",
   "metadata": {
    "slideshow": {
     "slide_type": "subslide"
    }
   },
   "source": [
    "The derivative of a function is another function, so it can be differentiated again. In that way, we get the\n",
    "second derivative of a function respect to the independent variable twice. Depending on the given form of\n",
    "the function we will have the following notation and cases:"
   ]
  },
  {
   "cell_type": "markdown",
   "id": "84cfb1bc",
   "metadata": {
    "slideshow": {
     "slide_type": "subslide"
    }
   },
   "source": [
    "## 1- Explicit Form"
   ]
  },
  {
   "cell_type": "markdown",
   "id": "2302edb1",
   "metadata": {
    "slideshow": {
     "slide_type": "fragment"
    }
   },
   "source": [
    "\\begin{equation}\n",
    "y=f(x)\n",
    "\\end{equation}"
   ]
  },
  {
   "cell_type": "markdown",
   "id": "29739c6e",
   "metadata": {
    "slideshow": {
     "slide_type": "fragment"
    }
   },
   "source": [
    "- First derivative:\n",
    "\n",
    "\\begin{equation}\n",
    "f'(x)=\\frac{dy}{dx}\n",
    "\\end{equation}"
   ]
  },
  {
   "cell_type": "markdown",
   "id": "3ce74127",
   "metadata": {
    "slideshow": {
     "slide_type": "subslide"
    }
   },
   "source": [
    "- Second derivative:\n",
    "\n",
    "\\begin{equation}\n",
    "f''(x)=\\frac{d^2y}{dx^2}=\\frac{d}{dx}\\bigg(\\frac{dy}{dx}\\bigg)\n",
    "\\end{equation}"
   ]
  },
  {
   "cell_type": "markdown",
   "id": "74b9a8c5",
   "metadata": {
    "slideshow": {
     "slide_type": "subslide"
    }
   },
   "source": [
    "Note that \n",
    "\n",
    "\\begin{equation}\n",
    "\\frac{d^2y}{dx^2}\\ne \\bigg(\\frac{dy}{dx}\\bigg)^2=\\frac{dy}{dx}\\cdot\\frac{dy}{dx}\n",
    "\\end{equation}"
   ]
  },
  {
   "cell_type": "markdown",
   "id": "aa1676db",
   "metadata": {
    "slideshow": {
     "slide_type": "subslide"
    }
   },
   "source": [
    "- Third derivative:\n",
    "\n",
    "\\begin{equation}\n",
    "f'''(x)=\\frac{d^3y}{dx^3}=\\frac{d}{dx}\\bigg(\\frac{d^2y}{dx^2}\\bigg)\n",
    "\\end{equation}\n",
    "\n"
   ]
  },
  {
   "cell_type": "markdown",
   "id": "2393be2a",
   "metadata": {
    "slideshow": {
     "slide_type": "subslide"
    }
   },
   "source": [
    "- n-th derivative:\n",
    "\n",
    "\\begin{equation}\n",
    "f^{(n)}(x)=\\frac{d^ny}{dx^n}=\\frac{d}{dx}\\bigg(\\frac{d^{n-1}y}{dx^{n-1}}\\bigg)\n",
    "\\end{equation}"
   ]
  },
  {
   "cell_type": "markdown",
   "id": "e5e66180",
   "metadata": {
    "slideshow": {
     "slide_type": "subslide"
    }
   },
   "source": [
    "**Example:** find some higher order derivatives of $y=x^3$ and $y=x^3-x^2+x-4$"
   ]
  },
  {
   "cell_type": "markdown",
   "id": "881ade73",
   "metadata": {
    "slideshow": {
     "slide_type": "subslide"
    }
   },
   "source": [
    "## 2- Implicit Form"
   ]
  },
  {
   "cell_type": "markdown",
   "id": "6c03db4e",
   "metadata": {
    "slideshow": {
     "slide_type": "fragment"
    }
   },
   "source": [
    "\n",
    "\\begin{equation}\n",
    "F(x,y)=0\n",
    "\\end{equation}"
   ]
  },
  {
   "cell_type": "markdown",
   "id": "ce5b6089",
   "metadata": {
    "slideshow": {
     "slide_type": "subslide"
    }
   },
   "source": [
    "**Example**\n",
    "\n",
    "Find the second derivative of\n",
    "\n",
    "\\begin{equation}\n",
    "x^2+y^2=r^2\n",
    "\\end{equation}\n",
    "\n",
    "\\begin{equation}\n",
    "y\\sin x +y^2=x\n",
    "\\end{equation}"
   ]
  },
  {
   "cell_type": "markdown",
   "id": "619ff4ee",
   "metadata": {
    "slideshow": {
     "slide_type": "subslide"
    }
   },
   "source": [
    "## 3- Parametric Equations"
   ]
  },
  {
   "cell_type": "markdown",
   "id": "20b2be1a",
   "metadata": {
    "slideshow": {
     "slide_type": "fragment"
    }
   },
   "source": [
    "\\begin{equation}\n",
    "\\left\\lbrace\n",
    "       \\begin{array}{ll}\n",
    "         y=F(t) \\\\\n",
    "        x=x(t)\n",
    "      \\end{array}\n",
    "  \\right.\n",
    "\\end{equation}"
   ]
  },
  {
   "cell_type": "markdown",
   "id": "0ea94176",
   "metadata": {
    "slideshow": {
     "slide_type": "subslide"
    }
   },
   "source": [
    "\\begin{equation}\n",
    "\\frac{dy}{dx}=\\frac{dy\\big/dt}{dx\\big/dt}\n",
    "\\end{equation}"
   ]
  },
  {
   "cell_type": "markdown",
   "id": "c16e356c",
   "metadata": {
    "slideshow": {
     "slide_type": "fragment"
    }
   },
   "source": [
    "Notice that $\n",
    "\\frac{dy}{dx}=f(t)\n",
    "$ is a function of $t$ as well."
   ]
  },
  {
   "cell_type": "markdown",
   "id": "107d504e",
   "metadata": {
    "slideshow": {
     "slide_type": "subslide"
    }
   },
   "source": [
    "For the second derivative we are at the same situation of having to take the derivative of $\\frac{dy}{dx}$ respect to $x$ again when it depends on t. Hence, we need to apply the Chain Rule again to"
   ]
  },
  {
   "cell_type": "markdown",
   "id": "0446e6d1",
   "metadata": {
    "slideshow": {
     "slide_type": "fragment"
    }
   },
   "source": [
    "\\begin{equation}\n",
    "\\left\\lbrace\n",
    "       \\begin{array}{ll}\n",
    "         y'=\\frac{dy}{dx}=f(t) \\\\\n",
    "        x=x(t)\n",
    "      \\end{array}\n",
    "  \\right.\n",
    "\\end{equation}"
   ]
  },
  {
   "cell_type": "markdown",
   "id": "23bbf9db",
   "metadata": {
    "slideshow": {
     "slide_type": "subslide"
    }
   },
   "source": [
    "Then...\n",
    "\n",
    "\\begin{equation}\n",
    "\\frac{d^2y}{dx^2}= \\frac{d\\bigg(\\frac{dy}{dx}\\bigg)}{dx}  = \\frac{d \\bigg(\\frac{dy}{dx}\\bigg)}{d t}\\bigg/ \\frac{dx}{dt}\n",
    "\\end{equation}"
   ]
  },
  {
   "cell_type": "markdown",
   "id": "3bb3e531",
   "metadata": {
    "slideshow": {
     "slide_type": "subslide"
    }
   },
   "source": [
    "\\begin{equation}\n",
    "\\Rightarrow \\frac{d^2y}{dx^2}= \\frac{d\\bigg(\\frac{dy}{dt}\\big/\\frac{dx}{dt}\\bigg)}{dx}  = \\frac{d \\bigg(\\frac{dy}{dt}\\big/\\frac{dx}{dt}\\bigg)}{d t}\\bigg/ \\frac{dx}{dt}\n",
    "\\end{equation}"
   ]
  },
  {
   "cell_type": "markdown",
   "id": "56c4d853",
   "metadata": {
    "slideshow": {
     "slide_type": "subslide"
    }
   },
   "source": [
    "**Example** \n",
    "\n",
    "Find the second derivative $\\frac{d^2y}{dx^2}$ of\n",
    "\n",
    "\\begin{equation}\n",
    "1.~\\left\\lbrace\n",
    "       \\begin{array}{ll}\n",
    "         y=t^2+5 \\\\\n",
    "        x=e^t\n",
    "      \\end{array}\n",
    "  \\right.\n",
    "\\end{equation}\n",
    "\n",
    "\\begin{equation}\n",
    "2.~\\left\\lbrace\n",
    "       \\begin{array}{ll}\n",
    "         y=t^2 \\\\\n",
    "        x=t^3-3t\n",
    "      \\end{array}\n",
    "  \\right.\n",
    "\\end{equation}"
   ]
  }
 ],
 "metadata": {
  "celltoolbar": "Slideshow",
  "kernelspec": {
   "display_name": "Python 3 (ipykernel)",
   "language": "python",
   "name": "python3"
  },
  "language_info": {
   "codemirror_mode": {
    "name": "ipython",
    "version": 3
   },
   "file_extension": ".py",
   "mimetype": "text/x-python",
   "name": "python",
   "nbconvert_exporter": "python",
   "pygments_lexer": "ipython3",
   "version": "3.10.9"
  },
  "varInspector": {
   "cols": {
    "lenName": 16,
    "lenType": 16,
    "lenVar": 40
   },
   "kernels_config": {
    "python": {
     "delete_cmd_postfix": "",
     "delete_cmd_prefix": "del ",
     "library": "var_list.py",
     "varRefreshCmd": "print(var_dic_list())"
    },
    "r": {
     "delete_cmd_postfix": ") ",
     "delete_cmd_prefix": "rm(",
     "library": "var_list.r",
     "varRefreshCmd": "cat(var_dic_list()) "
    }
   },
   "types_to_exclude": [
    "module",
    "function",
    "builtin_function_or_method",
    "instance",
    "_Feature"
   ],
   "window_display": false
  }
 },
 "nbformat": 4,
 "nbformat_minor": 5
}
