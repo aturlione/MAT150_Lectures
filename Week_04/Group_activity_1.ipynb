{
 "cells": [
  {
   "cell_type": "markdown",
   "id": "5f4e44c7",
   "metadata": {
    "slideshow": {
     "slide_type": "slide"
    }
   },
   "source": [
    "# Group activity"
   ]
  },
  {
   "cell_type": "markdown",
   "id": "31ffe5a2",
   "metadata": {
    "slideshow": {
     "slide_type": "fragment"
    }
   },
   "source": [
    "- There are going to be two groups in this activity. \n",
    "- I will randomly assign one exercise from Set 3 to each student in the group. \n",
    "- Every student will study their assigned exercise today at home and then explain it tomorrow to their classmates. \n",
    "- The exercises to be solved are as follows: 3-(r), 4, 7-(b), and 8-(a)."
   ]
  },
  {
   "cell_type": "code",
   "execution_count": 2,
   "id": "a1686c12",
   "metadata": {
    "slideshow": {
     "slide_type": "subslide"
    }
   },
   "outputs": [],
   "source": [
    "import random\n",
    "\n",
    "def exercises(excs):\n",
    "    index=random.Random().randint(0,len(excs)-1)\n",
    "    print('Your exercise is:', excs[index])   "
   ]
  },
  {
   "cell_type": "code",
   "execution_count": 8,
   "id": "508104c7",
   "metadata": {
    "slideshow": {
     "slide_type": "subslide"
    }
   },
   "outputs": [
    {
     "name": "stdout",
     "output_type": "stream",
     "text": [
      "Your exercise is: 7-b\n"
     ]
    }
   ],
   "source": [
    "exercises(['3-r','4','7-b','8-a'])"
   ]
  },
  {
   "cell_type": "code",
   "execution_count": null,
   "id": "6e6de952",
   "metadata": {},
   "outputs": [],
   "source": []
  }
 ],
 "metadata": {
  "celltoolbar": "Slideshow",
  "kernelspec": {
   "display_name": "Python 3 (ipykernel)",
   "language": "python",
   "name": "python3"
  },
  "language_info": {
   "codemirror_mode": {
    "name": "ipython",
    "version": 3
   },
   "file_extension": ".py",
   "mimetype": "text/x-python",
   "name": "python",
   "nbconvert_exporter": "python",
   "pygments_lexer": "ipython3",
   "version": "3.10.9"
  }
 },
 "nbformat": 4,
 "nbformat_minor": 5
}
